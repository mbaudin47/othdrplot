{
 "cells": [
  {
   "cell_type": "markdown",
   "metadata": {},
   "source": [
    "# Generate Gaussian Mixture"
   ]
  },
  {
   "cell_type": "markdown",
   "metadata": {},
   "source": [
    "This create the sample used to demonstrate the 2-dimensional kernel density estimation (KDE)."
   ]
  },
  {
   "cell_type": "code",
   "execution_count": 1,
   "metadata": {},
   "outputs": [
    {
     "name": "stderr",
     "output_type": "stream",
     "text": [
      "/Users/roy/Applications/miniconda3/envs/othdr/lib/python3.7/site-packages/matplotlib/figure.py:445: UserWarning: Matplotlib is currently using module://ipykernel.pylab.backend_inline, which is a non-GUI backend, so cannot show the figure.\n",
      "  % get_backend())\n"
     ]
    },
    {
     "data": {
      "image/png": "[encoded data removed]",
      "text/plain": [
       "<Figure size 432x288 with 1 Axes>"
      ]
     },
     "metadata": {
      "needs_background": "light"
     },
     "output_type": "display_data"
    }
   ],
   "source": [
    "%matplotlib inline\n",
    "import openturns as ot\n",
    "from openturns import (Graph, Cloud)\n",
    "from openturns.viewer import View\n",
    "\n",
    "# Create a Funky distribution\n",
    "corr = ot.CorrelationMatrix(2)\n",
    "corr[0, 1] = 0.2\n",
    "copula = ot.NormalCopula(corr)\n",
    "x1 = ot.Normal(-1., 1)\n",
    "x2 = ot.Normal(2, 1)\n",
    "x_funk = ot.ComposedDistribution([x1, x2], copula)\n",
    "\n",
    "# Create a Punk distribution\n",
    "x1 = ot.Normal(1.,1)\n",
    "x2 = ot.Normal(-2,1)\n",
    "x_punk = ot.ComposedDistribution([x1, x2], copula)\n",
    "\n",
    "# Merge the distributions\n",
    "mixture = ot.Mixture([x_funk, x_punk], [0.5,1.])\n",
    "\n",
    "# Sample from the mixture\n",
    "ns = 1000\n",
    "sample = mixture.getSample(ns)\n",
    "\n",
    "# Draw a scatter plot\n",
    "graph = Graph(\"Data\", \"X1\", \"X2\", True, '')\n",
    "cloud = Cloud(sample, 'blue', 'fsquare', 'My Cloud')\n",
    "graph.add(cloud)\n",
    "View(graph).show()\n",
    "\n",
    "sample.exportToCSVFile(\"gauss-mixture.csv\")"
   ]
  },
  {
   "cell_type": "code",
   "execution_count": 5,
   "metadata": {},
   "outputs": [],
   "source": []
  }
 ],
 "metadata": {
  "kernelspec": {
   "display_name": "Python 3",
   "language": "python",
   "name": "python3"
  },
  "language_info": {
   "codemirror_mode": {
    "name": "ipython",
    "version": 3
   },
   "file_extension": ".py",
   "mimetype": "text/x-python",
   "name": "python",
   "nbconvert_exporter": "python",
   "pygments_lexer": "ipython3",
   "version": "3.7.0"
  }
 },
 "nbformat": 4,
 "nbformat_minor": 1
}
