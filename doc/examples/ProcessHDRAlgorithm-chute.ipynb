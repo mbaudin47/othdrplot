{
 "cells": [
  {
   "cell_type": "markdown",
   "metadata": {},
   "source": [
    "# The HDR Plot for the freefall example"
   ]
  },
  {
   "cell_type": "markdown",
   "metadata": {},
   "source": [
    "## Introduction\n",
    "\n",
    "We consider a mass which is dropped in a viscous fluid. At initial time, a mass is vertically projected in a viscous fluid upward. The mass goes up, then falls down. The speed of the mass is limited by the drag force that the fluid generates on the mass. We make the hypothesis that the drag force depends linearily on the speed of the mass.\n",
    "\n",
    "The differential equation which models the problem is then :\n",
    "$$\n",
    "m \\frac{dv}{dt} = -m g - cv\n",
    "$$\n",
    "where \n",
    "- $v$ is the vertical speed (m/s), \n",
    "- $m$ is the mass (kg), \n",
    "- $g$ is the gravity coefficient (m/s2),\n",
    "- $c$ is the linear drag coefficient (kg/s).\n",
    "\n",
    "A positive speed in considered as in the upward direction. \n",
    "\n",
    "The solution of this differential equation can be derived with simple calculations when the drag depends linearily on the speed, which is an acceptable approximation in a viscous fluid. This approximation is not correct in a less dense fluid such as air, where the drag force can be modeled by a function which depends quadratically on the speed of the mass.\n",
    "\n",
    "The height of the mass depending on the time is:\n",
    "$$\n",
    "z(t) = z_0 + v_{inf} t+ \\tau (v_0-v_{inf})(1-exp(-t/\\tau))\n",
    "$$\n",
    "for any $t\\in [0,tmax]$, where \n",
    "- $z$ is the height (m) above the surface of the Earth, \n",
    "- $z_0$ is the initial height (m),\n",
    "- $v_0$ is the initial speed (m/s),\n",
    "- $t$ is the time (s),\n",
    "- $v_{inf} = -mg/c$ is the limit speed (m/s),\n",
    "- $\\tau = m/c$ is a time constant (s).\n",
    "\n",
    "We make the hypothesis that the height remains greater than a given level, say $z=0$. Therefore, the height becomes singular when this height is reached:\n",
    "$$\n",
    "y(t) = \\max(z(t),0)\n",
    "$$\n",
    "for any $t\\in[0,tmax]$.\n",
    "\n",
    "We consider the following parameters:\n",
    "$$\n",
    "g = 9.81 \\textrm{ (m/s2)}, \\quad z_0 = 100 \\textrm{ (m)}, \\quad \n",
    "v_0 = 55 \\textrm{ (m/s)}, \\quad m = 80 \\textrm{ (kg)}, \\quad \n",
    "c = 15 \\textrm{ (kg/s)}, \\quad t_{max} = 12 \\textrm{ (s)}.\n",
    "$$\n",
    "\n",
    "Where there is no drag, i.e. when $c=0$, we can get an even simpler expression of the height:\n",
    "$$\n",
    "z(t) = z_0 + v_0 t  - g t^2\n",
    "$$\n",
    "for any $t\\in[0,tmax]$.\n",
    "\n",
    "<img src=\"trajectoire-vs-coefficient-EN.png\" width=\"400\">\n",
    "\n",
    "## Incertitudes\n",
    "\n",
    "When the variables $z_0$, $v_0$, $m$ and $c$ are supposed to be random, the trajectories are a stochastic process. We consider that these variables are independent random variable and have the following uniform and gaussian distributions.\n",
    "\n",
    "|Variable|  Distribution|\n",
    "| ------------- |-------------|\n",
    "| $z_0$ |  Uniform(100.,150.) |\n",
    "| $v_0$ | Normal(55.,10.) |\n",
    "| $m$ | Normal(80.,8.) |\n",
    "| $c$ | Uniform(0.,30.) |\n",
    "\n",
    "## References\n",
    "\n",
    "Steven C. Chapra. Applied numerical methods with Matlab for engineers and scientists, third edition. 2012."
   ]
  },
  {
   "cell_type": "code",
   "execution_count": 1,
   "metadata": {
    "scrolled": true
   },
   "outputs": [],
   "source": [
    "import os\n",
    "import numpy as np\n",
    "import matplotlib.pyplot as plt\n",
    "import openturns as ot\n",
    "from openturns.viewer import View\n",
    "from othdrplot import ProcessHighDensityRegionAlgorithm"
   ]
  },
  {
   "cell_type": "markdown",
   "metadata": {},
   "source": [
    "The minimum volume level set computation requires a sampling which can be costly with the default value of the parameters, due to a huge sampling size. Hence, we reduce it to 500."
   ]
  },
  {
   "cell_type": "code",
   "execution_count": 2,
   "metadata": {},
   "outputs": [],
   "source": [
    "n_samples = 500\n",
    "ot.ResourceMap.Set('Distribution-MinimumVolumeLevelSetBySampling', 'true')\n",
    "ot.ResourceMap.Set('Distribution-MinimumVolumeLevelSetSamplingSize', str(n_samples))"
   ]
  },
  {
   "cell_type": "markdown",
   "metadata": {},
   "source": [
    "Load the dataset."
   ]
  },
  {
   "cell_type": "code",
   "execution_count": 3,
   "metadata": {},
   "outputs": [],
   "source": [
    "fname = os.path.join(os.path.abspath(''), '../../tests/data/chute-trajectories.csv')\n",
    "data = ot.Sample.ImportFromCSVFile(fname)"
   ]
  },
  {
   "cell_type": "markdown",
   "metadata": {},
   "source": [
    "Create the mesh."
   ]
  },
  {
   "cell_type": "code",
   "execution_count": 4,
   "metadata": {},
   "outputs": [
    {
     "name": "stdout",
     "output_type": "stream",
     "text": [
      "Number of dates : 100\n",
      "Number of fields : 1000\n"
     ]
    }
   ],
   "source": [
    "n_nodes = data.getSize()\n",
    "n_fields = data.getDimension()-1\n",
    "print(\"Number of dates : %d\" % (n_nodes))\n",
    "print(\"Number of fields : %d\" % (n_fields))"
   ]
  },
  {
   "cell_type": "code",
   "execution_count": 5,
   "metadata": {
    "scrolled": true
   },
   "outputs": [
    {
     "data": {
      "image/png": "[encoded data removed]",
      "text/plain": [
       "class=Graph name=Mesh Unnamed implementation=class=GraphImplementation name=Mesh Unnamed title=Mesh Unnamed xTitle=x yTitle=y axes=ON grid=ON legendposition=topright legendFontSize=1 drawables=[class=Drawable name=Unnamed implementation=class=Cloud name=Unnamed derived from class=DrawableImplementation name=Unnamed legend=100 nodes data=class=Sample name=Unnamed implementation=class=SampleImplementation name=Unnamed size=100 dimension=2 data=[[0,0],[0.121212,0],[0.242424,0],[0.363636,0],[0.484848,0],[0.606061,0],[0.727273,0],[0.848485,0],[0.969697,0],[1.09091,0],[1.21212,0],[1.33333,0],[1.45455,0],[1.57576,0],[1.69697,0],[1.81818,0],[1.93939,0],[2.06061,0],[2.18182,0],[2.30303,0],[2.42424,0],[2.54545,0],[2.66667,0],[2.78788,0],[2.90909,0],[3.0303,0],[3.15152,0],[3.27273,0],[3.39394,0],[3.51515,0],[3.63636,0],[3.75758,0],[3.87879,0],[4,0],[4.12121,0],[4.24242,0],[4.36364,0],[4.48485,0],[4.60606,0],[4.72727,0],[4.84848,0],[4.9697,0],[5.09091,0],[5.21212,0],[5.33333,0],[5.45455,0],[5.57576,0],[5.69697,0],[5.81818,0],[5.93939,0],[6.06061,0],[6.18182,0],[6.30303,0],[6.42424,0],[6.54545,0],[6.66667,0],[6.78788,0],[6.90909,0],[7.0303,0],[7.15152,0],[7.27273,0],[7.39394,0],[7.51515,0],[7.63636,0],[7.75758,0],[7.87879,0],[8,0],[8.12121,0],[8.24242,0],[8.36364,0],[8.48485,0],[8.60606,0],[8.72727,0],[8.84848,0],[8.9697,0],[9.09091,0],[9.21212,0],[9.33333,0],[9.45455,0],[9.57576,0],[9.69697,0],[9.81818,0],[9.93939,0],[10.0606,0],[10.1818,0],[10.303,0],[10.4242,0],[10.5455,0],[10.6667,0],[10.7879,0],[10.9091,0],[11.0303,0],[11.1515,0],[11.2727,0],[11.3939,0],[11.5152,0],[11.6364,0],[11.7576,0],[11.8788,0],[12,0]] color=red fillStyle=solid lineStyle=solid pointStyle=plus lineWidth=1]"
      ]
     },
     "execution_count": 5,
     "metadata": {},
     "output_type": "execute_result"
    }
   ],
   "source": [
    "vertices = data[:,0]\n",
    "mesh = ot.Mesh(vertices)\n",
    "mesh.draw()"
   ]
  },
  {
   "cell_type": "markdown",
   "metadata": {},
   "source": [
    "Create the ProcessSample from the data."
   ]
  },
  {
   "cell_type": "code",
   "execution_count": 6,
   "metadata": {},
   "outputs": [],
   "source": [
    "d_fields = 1\n",
    "sample = ot.ProcessSample(mesh, n_fields, d_fields)\n",
    "for i in range(n_fields):\n",
    "    trajectory = data[:, i+1]\n",
    "    sample[i] = ot.Field(mesh, trajectory)"
   ]
  },
  {
   "cell_type": "markdown",
   "metadata": {},
   "source": [
    "Compute HDRPlot."
   ]
  },
  {
   "cell_type": "code",
   "execution_count": 7,
   "metadata": {},
   "outputs": [
    {
     "ename": "TypeError",
     "evalue": "InvalidArgumentException : Error: expected positive vertices weights, here weights[0]=0",
     "output_type": "error",
     "traceback": [
      "\u001b[0;31m---------------------------------------------------------------------------\u001b[0m",
      "\u001b[0;31mTypeError\u001b[0m                                 Traceback (most recent call last)",
      "\u001b[0;32m<ipython-input-7-2c433bd282e9>\u001b[0m in \u001b[0;36m<module>\u001b[0;34m\u001b[0m\n\u001b[1;32m      2\u001b[0m \u001b[0mhdr\u001b[0m\u001b[0;34m.\u001b[0m\u001b[0msetContoursAlpha\u001b[0m\u001b[0;34m(\u001b[0m\u001b[0;34m[\u001b[0m\u001b[0;36m0.95\u001b[0m\u001b[0;34m,\u001b[0m \u001b[0;36m0.5\u001b[0m\u001b[0;34m]\u001b[0m\u001b[0;34m)\u001b[0m\u001b[0;34m\u001b[0m\u001b[0;34m\u001b[0m\u001b[0m\n\u001b[1;32m      3\u001b[0m \u001b[0mhdr\u001b[0m\u001b[0;34m.\u001b[0m\u001b[0msetOutlierAlpha\u001b[0m\u001b[0;34m(\u001b[0m\u001b[0;36m0.95\u001b[0m\u001b[0;34m)\u001b[0m\u001b[0;34m\u001b[0m\u001b[0;34m\u001b[0m\u001b[0m\n\u001b[0;32m----> 4\u001b[0;31m \u001b[0mhdr\u001b[0m\u001b[0;34m.\u001b[0m\u001b[0mrun\u001b[0m\u001b[0;34m(\u001b[0m\u001b[0;34m)\u001b[0m\u001b[0;34m\u001b[0m\u001b[0;34m\u001b[0m\u001b[0m\n\u001b[0m\u001b[1;32m      5\u001b[0m \u001b[0mhdr\u001b[0m\u001b[0;34m.\u001b[0m\u001b[0msummary\u001b[0m\u001b[0;34m(\u001b[0m\u001b[0;34m)\u001b[0m\u001b[0;34m\u001b[0m\u001b[0;34m\u001b[0m\u001b[0m\n",
      "\u001b[0;32m~/Documents/Codes/othdrplot/othdrplot/process_high_density_region_algorithm.py\u001b[0m in \u001b[0;36mrun\u001b[0;34m(self, KarhunenLoeveResult, distribution)\u001b[0m\n\u001b[1;32m     65\u001b[0m         \u001b[0;34m:\u001b[0m\u001b[0mtype\u001b[0m \u001b[0mdistribution\u001b[0m\u001b[0;34m:\u001b[0m \u001b[0;34m:\u001b[0m\u001b[0;32mclass\u001b[0m\u001b[0;34m:\u001b[0m\u001b[0;31m`\u001b[0m\u001b[0mopenturns\u001b[0m\u001b[0;34m.\u001b[0m\u001b[0mDistribution\u001b[0m\u001b[0;31m`\u001b[0m\u001b[0;34m\u001b[0m\u001b[0;34m\u001b[0m\u001b[0m\n\u001b[1;32m     66\u001b[0m         \"\"\"\n\u001b[0;32m---> 67\u001b[0;31m         \u001b[0mself\u001b[0m\u001b[0;34m.\u001b[0m\u001b[0mrunDimensionReduction\u001b[0m\u001b[0;34m(\u001b[0m\u001b[0mKarhunenLoeveResult\u001b[0m\u001b[0;34m)\u001b[0m\u001b[0;34m\u001b[0m\u001b[0;34m\u001b[0m\u001b[0m\n\u001b[0m\u001b[1;32m     68\u001b[0m         \u001b[0mself\u001b[0m\u001b[0;34m.\u001b[0m\u001b[0mrunHDR\u001b[0m\u001b[0;34m(\u001b[0m\u001b[0mdistribution\u001b[0m\u001b[0;34m)\u001b[0m\u001b[0;34m\u001b[0m\u001b[0;34m\u001b[0m\u001b[0m\n\u001b[1;32m     69\u001b[0m \u001b[0;34m\u001b[0m\u001b[0m\n",
      "\u001b[0;32m~/Documents/Codes/othdrplot/othdrplot/process_high_density_region_algorithm.py\u001b[0m in \u001b[0;36mrunDimensionReduction\u001b[0;34m(self, KarhunenLoeveResult)\u001b[0m\n\u001b[1;32m     77\u001b[0m         \u001b[0;32mif\u001b[0m \u001b[0mKarhunenLoeveResult\u001b[0m \u001b[0;32mis\u001b[0m \u001b[0;32mNone\u001b[0m\u001b[0;34m:\u001b[0m\u001b[0;34m\u001b[0m\u001b[0;34m\u001b[0m\u001b[0m\n\u001b[1;32m     78\u001b[0m             algo = ot.KarhunenLoeveSVDAlgorithm(self.processSample,\n\u001b[0;32m---> 79\u001b[0;31m                                                 self.threshold)\n\u001b[0m\u001b[1;32m     80\u001b[0m             \u001b[0malgo\u001b[0m\u001b[0;34m.\u001b[0m\u001b[0mrun\u001b[0m\u001b[0;34m(\u001b[0m\u001b[0;34m)\u001b[0m\u001b[0;34m\u001b[0m\u001b[0;34m\u001b[0m\u001b[0m\n\u001b[1;32m     81\u001b[0m \u001b[0;34m\u001b[0m\u001b[0m\n",
      "\u001b[0;32m~/Applications/miniconda3/envs/othdr/lib/python3.7/site-packages/openturns/model_process.py\u001b[0m in \u001b[0;36m__init__\u001b[0;34m(self, *args)\u001b[0m\n\u001b[1;32m   5216\u001b[0m \u001b[0;34m\u001b[0m\u001b[0m\n\u001b[1;32m   5217\u001b[0m     \u001b[0;32mdef\u001b[0m \u001b[0m__init__\u001b[0m\u001b[0;34m(\u001b[0m\u001b[0mself\u001b[0m\u001b[0;34m,\u001b[0m \u001b[0;34m*\u001b[0m\u001b[0margs\u001b[0m\u001b[0;34m)\u001b[0m\u001b[0;34m:\u001b[0m\u001b[0;34m\u001b[0m\u001b[0;34m\u001b[0m\u001b[0m\n\u001b[0;32m-> 5218\u001b[0;31m         \u001b[0mthis\u001b[0m \u001b[0;34m=\u001b[0m \u001b[0m_model_process\u001b[0m\u001b[0;34m.\u001b[0m\u001b[0mnew_KarhunenLoeveSVDAlgorithm\u001b[0m\u001b[0;34m(\u001b[0m\u001b[0;34m*\u001b[0m\u001b[0margs\u001b[0m\u001b[0;34m)\u001b[0m\u001b[0;34m\u001b[0m\u001b[0;34m\u001b[0m\u001b[0m\n\u001b[0m\u001b[1;32m   5219\u001b[0m         \u001b[0;32mtry\u001b[0m\u001b[0;34m:\u001b[0m\u001b[0;34m\u001b[0m\u001b[0;34m\u001b[0m\u001b[0m\n\u001b[1;32m   5220\u001b[0m             \u001b[0mself\u001b[0m\u001b[0;34m.\u001b[0m\u001b[0mthis\u001b[0m\u001b[0;34m.\u001b[0m\u001b[0mappend\u001b[0m\u001b[0;34m(\u001b[0m\u001b[0mthis\u001b[0m\u001b[0;34m)\u001b[0m\u001b[0;34m\u001b[0m\u001b[0;34m\u001b[0m\u001b[0m\n",
      "\u001b[0;31mTypeError\u001b[0m: InvalidArgumentException : Error: expected positive vertices weights, here weights[0]=0"
     ]
    }
   ],
   "source": [
    "hdr = ProcessHighDensityRegionAlgorithm(sample)\n",
    "hdr.setContoursAlpha([0.95, 0.5])\n",
    "hdr.setOutlierAlpha(0.95)\n",
    "hdr.run()\n",
    "hdr.summary()"
   ]
  },
  {
   "cell_type": "code",
   "execution_count": null,
   "metadata": {},
   "outputs": [],
   "source": [
    "hdr.plotDimensionReduction()"
   ]
  },
  {
   "cell_type": "code",
   "execution_count": null,
   "metadata": {},
   "outputs": [],
   "source": [
    "hdr.plotDensity(plotData=True)"
   ]
  },
  {
   "cell_type": "code",
   "execution_count": null,
   "metadata": {},
   "outputs": [],
   "source": [
    "hdr.plotTrajectories()"
   ]
  },
  {
   "cell_type": "code",
   "execution_count": null,
   "metadata": {},
   "outputs": [],
   "source": [
    "_ = hdr.plotOutlierTrajectories()"
   ]
  },
  {
   "cell_type": "code",
   "execution_count": null,
   "metadata": {},
   "outputs": [],
   "source": [
    "print(\"Outliers trajectories at alpha=%.4f\" % (hdr.densityPlot.outlierAlpha))\n",
    "outlierIndices = hdr.computeOutlierIndices()\n",
    "outlierIndices"
   ]
  }
 ],
 "metadata": {
  "kernelspec": {
   "display_name": "Python 3",
   "language": "python",
   "name": "python3"
  },
  "language_info": {
   "codemirror_mode": {
    "name": "ipython",
    "version": 3
   },
   "file_extension": ".py",
   "mimetype": "text/x-python",
   "name": "python",
   "nbconvert_exporter": "python",
   "pygments_lexer": "ipython3",
   "version": "3.7.2"
  }
 },
 "nbformat": 4,
 "nbformat_minor": 1
}
