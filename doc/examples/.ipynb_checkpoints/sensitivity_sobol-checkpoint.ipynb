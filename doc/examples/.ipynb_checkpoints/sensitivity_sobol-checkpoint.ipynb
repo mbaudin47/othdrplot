{
 "cells": [
  {
   "cell_type": "markdown",
   "metadata": {},
   "source": [
    "# *Sobol'* sensitivity indices"
   ]
  },
  {
   "cell_type": "markdown",
   "metadata": {},
   "source": [
    "In this example we are going to quantify the correlation between the input variables and the output variable of a model thanks to the *Sobol'* indices.\n",
    "\n",
    "The *Sobol'* indices allow to evaluate the importance of a single variable or a specific set of variables. \n",
    "\n",
    "*Sobol'* indices range is $\\left[0; 1\\right]$ ; the more the indice value is close to 1 the more the variable is important toward the output variance of the function. The *Sobol'* indices can be computed at different orders.\n",
    "\n",
    "The first order indices evaluate the importance of one variable at a time ($d$ indices, with $d$ the input dimension of the model). The $d$ total indices give the relative importance of every variables except the variable $x_i$, for every variable.\n",
    "\n",
    "Here the *Sobol'* indices are estimated on an analytical function: *Ishigami*. It writes\n",
    "\n",
    "$$ F(\\mathbf{x}) = \\sin(x_1)+7\\sin(x_2)^2+0.1x_3^4\\sin(x_1), \\quad \\mathbf{x}\\in [-\\pi, \\pi]^3 $$\n",
    "Analytical values of *Sobol'* indices for this function are available:\n",
    "\n",
    "\\begin{align}\n",
    "    S_{1, 2, 3} &= [0.314, 0.442, 0.], \\\\\n",
    "    S_{T_{1, 2, 3}} &= [0.558, 0.442, 0.244].\n",
    "\\end{align}\n",
    "\n",
    "This function is interesting because it exhibits an interaction between $x_1$ and $x_3$ although $x_3$ by itself do not play a role at first order."
   ]
  },
  {
   "cell_type": "markdown",
   "metadata": {},
   "source": [
    "## The Ishigami function"
   ]
  },
  {
   "cell_type": "code",
   "execution_count": 1,
   "metadata": {},
   "outputs": [],
   "source": [
    "import openturns as ot\n",
    "import numpy as np"
   ]
  },
  {
   "cell_type": "code",
   "execution_count": 2,
   "metadata": {},
   "outputs": [],
   "source": [
    "# Create the model and input distribution\n",
    "formula = ['sin(X1)+7*sin(X2)^2+' + \\\n",
    "           '0.1*X3^4*sin(X1)']\n",
    "input_names = ['X1', 'X2', 'X3']\n",
    "dimension = 3\n",
    "corners = [[-np.pi] * dimension, [np.pi] * dimension]\n",
    "model = ot.SymbolicFunction(input_names, formula)\n",
    "distribution = ot.ComposedDistribution([ot.Uniform(corners[0][i], corners[1][i])\n",
    "                                        for i in range(dimension)])\n",
    "true_sobol = [[0.314, 0.442, 0.], [0.558, 0.442, 0.244]]  # [first, total]"
   ]
  },
  {
   "cell_type": "markdown",
   "metadata": {},
   "source": [
    "## Without Surrogate"
   ]
  },
  {
   "cell_type": "code",
   "execution_count": 3,
   "metadata": {},
   "outputs": [],
   "source": [
    "# Create X/Y data\n",
    "ot.RandomGenerator.SetSeed(0)\n",
    "size = 10000\n",
    "sample = ot.SobolIndicesExperiment(distribution, size, True).generate()\n",
    "output = model(sample)"
   ]
  },
  {
   "cell_type": "code",
   "execution_count": 4,
   "metadata": {},
   "outputs": [
    {
     "name": "stdout",
     "output_type": "stream",
     "text": [
      "First order Sobol' indices: [0.302751,0.460825,0.00669407]\n",
      "Relative error: [1.12489872 1.88252502 0.66940742]%\n",
      "Total order Sobol' indices: [0.57499,0.427147,0.256687]\n",
      "Relative error: [1.69897217 1.48529071 1.26868602]%\n"
     ]
    }
   ],
   "source": [
    "# Compute Sobol' indices using the Saltelli estimator\n",
    "## first order indices\n",
    "sensitivityAnalysis = ot.SaltelliSensitivityAlgorithm(sample, output, size)\n",
    "first_order = sensitivityAnalysis.getFirstOrderIndices()\n",
    "print(f\"First order Sobol' indices: {first_order}\\n\"\n",
    "      f\"Relative error: {abs(np.array(first_order) - true_sobol[0]) * 100}%\")  # maximum is 1\n",
    "\n",
    "## total order indices\n",
    "total_order = sensitivityAnalysis.getTotalOrderIndices()\n",
    "print(f\"Total order Sobol' indices: {total_order}\\n\"\n",
    "      f\"Relative error: {abs(np.array(total_order) - true_sobol[1]) * 100}%\")  # maximum is 1"
   ]
  },
  {
   "cell_type": "markdown",
   "metadata": {},
   "source": [
    "## With Surrogate"
   ]
  },
  {
   "cell_type": "code",
   "execution_count": 16,
   "metadata": {},
   "outputs": [],
   "source": [
    "# Create a Gaussian process surrogate model\n",
    "from otsurrogate import SurrogateModel\n",
    "surrogate = SurrogateModel('kriging', corners, input_names)"
   ]
  },
  {
   "cell_type": "code",
   "execution_count": 13,
   "metadata": {},
   "outputs": [],
   "source": [
    "# Generation of data to fit the surrogate model\n",
    "sequence_type = ot.LowDiscrepancyExperiment(ot.SobolSequence(), distribution, 256)\n",
    "learning_sample = sequence_type.generate()\n",
    "learning_output = model(learning_sample)"
   ]
  },
  {
   "cell_type": "code",
   "execution_count": 14,
   "metadata": {},
   "outputs": [],
   "source": [
    "surrogate.fit(learning_sample, learning_output)"
   ]
  },
  {
   "cell_type": "code",
   "execution_count": 15,
   "metadata": {},
   "outputs": [
    {
     "name": "stdout",
     "output_type": "stream",
     "text": [
      "First order Sobol' indices: [0.312765,0.472573,0.0070339]\n",
      "Relative error: [0.12354972 3.05730148 0.70338971]%\n",
      "Total order Sobol' indices: [0.562337,0.447125,0.237793]\n",
      "Relative error: [0.43372052 0.51250475 0.62068293]%\n"
     ]
    }
   ],
   "source": [
    "# Compute sensitivity indices\n",
    "## first order indices\n",
    "output, _ = surrogate(sample)  # Do not return the information about the variance\n",
    "sensitivityAnalysis = ot.SaltelliSensitivityAlgorithm(sample, output, size)\n",
    "first_order = sensitivityAnalysis.getFirstOrderIndices()\n",
    "print(f\"First order Sobol' indices: {first_order}\\n\"\n",
    "      f\"Relative error: {abs(np.array(first_order) - true_sobol[0]) * 100}%\")  # maximum is 1\n",
    "\n",
    "## total order indices\n",
    "total_order = sensitivityAnalysis.getTotalOrderIndices()\n",
    "print(f\"Total order Sobol' indices: {total_order}\\n\"\n",
    "      f\"Relative error: {abs(np.array(total_order) - true_sobol[1]) * 100}%\")  # maximum is 1"
   ]
  },
  {
   "cell_type": "code",
   "execution_count": null,
   "metadata": {},
   "outputs": [],
   "source": []
  }
 ],
 "metadata": {
  "kernelspec": {
   "display_name": "Python 3",
   "language": "python",
   "name": "python3"
  },
  "language_info": {
   "codemirror_mode": {
    "name": "ipython",
    "version": 3
   },
   "file_extension": ".py",
   "mimetype": "text/x-python",
   "name": "python",
   "nbconvert_exporter": "python",
   "pygments_lexer": "ipython3",
   "version": "3.7.1"
  }
 },
 "nbformat": 4,
 "nbformat_minor": 1
}
