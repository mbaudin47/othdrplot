{
 "cells": [
  {
   "cell_type": "markdown",
   "metadata": {},
   "source": [
    "# The HDR Plot for the logistic example"
   ]
  },
  {
   "cell_type": "markdown",
   "metadata": {},
   "source": [
    "## Introduction\n",
    "\n",
    "The logistic growth model is the differential equation:\n",
    "$$\n",
    "y’(t) = ay(t) - by(t)²\n",
    "$$\n",
    "for any $t\\in[t_0, t_{final}]$, with the initial condition:\n",
    "$$\n",
    "y(t_0) = y_0\n",
    "$$\n",
    "where\n",
    "- $a > 0$ and $b > 0$ are two real parameters, \n",
    "- $y(t)$ is the size of the population at time $t$, \n",
    "- $t_0$ is the initial time,\n",
    "- $y_0$ is the initial population at time $t=t_0$, \n",
    "- $t_{final}$ is the final time.\n",
    "\n",
    "The $a$ parameter sets the growth rate of the population. The $b$ parameter acts as a competition parameter which limits the size of the population by increasing the competition between its members. \n",
    "\n",
    "In [1], the author uses this model to simulate the growth of the U.S. population. To do this, the author uses the U.S. census data from 1790 to 1910. For this time interval, R. Pearl and L. Reed [2] computed the following values of the parameters:\n",
    "$$\n",
    "a = 0.03134, \\qquad \n",
    "b = 1.5887 \\times 10^{-10}.\n",
    "$$\n",
    "\n",
    "Our goal is to use the logistic growth model in order to simulate the solution for a larger time interval, from 1790 to 2000:\n",
    "$$\n",
    "t_0 = 1790, \\qquad \n",
    "t_{final} = 2000.\n",
    "$$\n",
    "Then we can compare the predictions of this model with the real evolution of the U.S. population.\n",
    "\n",
    "We can prove that, if $y_0 > 0$, then the limit population is:\n",
    "$$\n",
    "y_{limit} =a/b.\n",
    "$$\n",
    "In 1790, the U.S. population was 3.9 Millions inhabitants:\n",
    "$$\n",
    "y_0 = 3.9 \\times 10^6.\n",
    "$$\n",
    "We can prove that the exact solution of the ordinary differential equation is:\n",
    "$$\n",
    "y(t)=\\frac{ay_0}{by_0+(a-by_0 ) \\exp{-a(t-t_0)} }\n",
    "$$\n",
    "for any $t\\in[t_0, t_{final}]$\n",
    "\n",
    "We want to see the solution of the ordinary differential equation when uncertainties are taken into account in the parameters:\n",
    "- the initial U.S. population $y_0$,\n",
    "- the parameters $a$ and $b$.\n",
    "\n",
    "Indeed, Pearl and Reed [2] estimated the parameters $a$ and $b$ using the U.S. census data from 1790 to 1910 while we have the data up to 2000. Moreover, the method used by Pearl and Reed to estimate the parameters could be improved; they only used 3 dates to estimate the parameters instead of using least squares, for example. Finally, Pearl and Reed did not provide confidence intervals for the parameters $a$ and $b$. \n",
    "\n",
    "<img src=\"logistic-data-vs-model.png\" width=\"400\">\n",
    "\n",
    "## Uncertainties\n",
    "\n",
    "We consider that the parameters $y_0$, $a$, $b$ are independent random variables with the following gaussian distributions.\n",
    "\n",
    "|Variable|  Distribution|\n",
    "| ------------- |-------------|\n",
    "| $Y_0$ | gaussian, mean $y_0$, coefficient of variation 10% |\n",
    "| $A$ | gaussian, mean $a$, coefficient of variation 30% |\n",
    "| $B$ | gaussian, mean $b$, coefficient of variation 30% |\n",
    "\n",
    "These parameters have been set without any particular probabilistic method. An improvement would be to use calibration methods to get a better quantification of these distributions. \n",
    " \n",
    "\n",
    "## Notes\n",
    "\n",
    "This example is based on [1], chapter \"First order differential equations\", page 28. \n",
    "The data used in [1] are from [3]. \n",
    "The logistic growth model was first suggested by Pierre François Verhulst near 1840. \n",
    "The data are from [1] for the time interval from 1790 to 1950, then from [2] for the time interval from 1960 to 2000.\n",
    "\n",
    "## References\n",
    "\n",
    "[1] Martin Braun. Differential equations and their applications, Fourth Edition. Texts in applied\n",
    "mathematics. Springer, 1993.\n",
    "\n",
    "[2] Cleve Moler. Numerical Computing with Matlab. Society for Industrial Applied Mathematics,\n",
    "2004.\n",
    "\n",
    "[3] Raymond Pearl and Lowell Reed. On the rate of growth of the population of the united states\n",
    "since 1790 and its mathematical representation. Proceedings of the National Academy of Sciences,\n",
    "1920.\n"
   ]
  },
  {
   "cell_type": "code",
   "execution_count": 1,
   "metadata": {
    "scrolled": true
   },
   "outputs": [],
   "source": [
    "import os\n",
    "import numpy as np\n",
    "import matplotlib.pyplot as plt\n",
    "import openturns as ot\n",
    "from openturns.viewer import View\n",
    "from othdrplot import ProcessHighDensityRegionAlgorithm"
   ]
  },
  {
   "cell_type": "markdown",
   "metadata": {},
   "source": [
    "The minimum volume level set computation requires a sampling which can be costly with the default value of the parameters, due to a huge sampling size. Hence, we reduce it to 500."
   ]
  },
  {
   "cell_type": "code",
   "execution_count": 2,
   "metadata": {},
   "outputs": [],
   "source": [
    "n_samples = 500\n",
    "ot.ResourceMap.Set('Distribution-MinimumVolumeLevelSetBySampling', 'true')\n",
    "ot.ResourceMap.Set('Distribution-MinimumVolumeLevelSetSamplingSize', str(n_samples))"
   ]
  },
  {
   "cell_type": "markdown",
   "metadata": {},
   "source": [
    "Load the dataset."
   ]
  },
  {
   "cell_type": "code",
   "execution_count": 3,
   "metadata": {},
   "outputs": [],
   "source": [
    "fname = os.path.join(os.path.abspath(''), '../../tests/data/logistic-trajectories.csv')\n",
    "data = ot.Sample.ImportFromCSVFile(fname)"
   ]
  },
  {
   "cell_type": "markdown",
   "metadata": {},
   "source": [
    "Create the mesh."
   ]
  },
  {
   "cell_type": "code",
   "execution_count": 4,
   "metadata": {},
   "outputs": [
    {
     "name": "stdout",
     "output_type": "stream",
     "text": [
      "Number of dates : 100\n",
      "Number of fields : 1000\n"
     ]
    }
   ],
   "source": [
    "n_nodes = data.getSize()\n",
    "n_fields = data.getDimension()-1\n",
    "print(\"Number of dates : %d\" % (n_nodes))\n",
    "print(\"Number of fields : %d\" % (n_fields))"
   ]
  },
  {
   "cell_type": "code",
   "execution_count": 5,
   "metadata": {
    "scrolled": true
   },
   "outputs": [
    {
     "data": {
      "image/png": "[encoded data removed]",
      "text/plain": [
       "class=Graph name=Mesh Unnamed implementation=class=GraphImplementation name=Mesh Unnamed title=Mesh Unnamed xTitle=x yTitle=y axes=ON grid=ON legendposition=topright legendFontSize=1 drawables=[class=Drawable name=Unnamed implementation=class=Cloud name=Unnamed derived from class=DrawableImplementation name=Unnamed legend=100 nodes data=class=Sample name=Unnamed implementation=class=SampleImplementation name=Unnamed size=100 dimension=2 data=[[1790,0],[1792.13,0],[1794.26,0],[1796.39,0],[1798.53,0],[1800.66,0],[1802.79,0],[1804.92,0],[1807.05,0],[1809.18,0],[1811.31,0],[1813.44,0],[1815.58,0],[1817.71,0],[1819.84,0],[1821.97,0],[1824.1,0],[1826.23,0],[1828.36,0],[1830.49,0],[1832.63,0],[1834.76,0],[1836.89,0],[1839.02,0],[1841.15,0],[1843.28,0],[1845.41,0],[1847.55,0],[1849.68,0],[1851.81,0],[1853.94,0],[1856.07,0],[1858.2,0],[1860.33,0],[1862.46,0],[1864.6,0],[1866.73,0],[1868.86,0],[1870.99,0],[1873.12,0],[1875.25,0],[1877.38,0],[1879.52,0],[1881.65,0],[1883.78,0],[1885.91,0],[1888.04,0],[1890.17,0],[1892.3,0],[1894.43,0],[1896.57,0],[1898.7,0],[1900.83,0],[1902.96,0],[1905.09,0],[1907.22,0],[1909.35,0],[1911.48,0],[1913.62,0],[1915.75,0],[1917.88,0],[1920.01,0],[1922.14,0],[1924.27,0],[1926.4,0],[1928.54,0],[1930.67,0],[1932.8,0],[1934.93,0],[1937.06,0],[1939.19,0],[1941.32,0],[1943.45,0],[1945.59,0],[1947.72,0],[1949.85,0],[1951.98,0],[1954.11,0],[1956.24,0],[1958.37,0],[1960.51,0],[1962.64,0],[1964.77,0],[1966.9,0],[1969.03,0],[1971.16,0],[1973.29,0],[1975.42,0],[1977.56,0],[1979.69,0],[1981.82,0],[1983.95,0],[1986.08,0],[1988.21,0],[1990.34,0],[1992.47,0],[1994.61,0],[1996.74,0],[1998.87,0],[2001,0]] color=red fillStyle=solid lineStyle=solid pointStyle=plus lineWidth=1]"
      ]
     },
     "execution_count": 5,
     "metadata": {},
     "output_type": "execute_result"
    }
   ],
   "source": [
    "vertices = data[:,0]\n",
    "mesh = ot.Mesh(vertices)\n",
    "mesh.draw()"
   ]
  },
  {
   "cell_type": "markdown",
   "metadata": {},
   "source": [
    "Create the ProcessSample from the data."
   ]
  },
  {
   "cell_type": "code",
   "execution_count": 6,
   "metadata": {},
   "outputs": [],
   "source": [
    "d_fields = 1\n",
    "sample = ot.ProcessSample(mesh, n_fields, d_fields)\n",
    "for i in range(n_fields):\n",
    "    trajectory = data[:, i+1]\n",
    "    sample[i] = ot.Field(mesh, trajectory)"
   ]
  },
  {
   "cell_type": "markdown",
   "metadata": {},
   "source": [
    "Compute HDRPlot."
   ]
  },
  {
   "cell_type": "code",
   "execution_count": 7,
   "metadata": {},
   "outputs": [
    {
     "ename": "TypeError",
     "evalue": "InvalidArgumentException : Error: expected positive vertices weights, here weights[0]=0",
     "output_type": "error",
     "traceback": [
      "\u001b[0;31m---------------------------------------------------------------------------\u001b[0m",
      "\u001b[0;31mTypeError\u001b[0m                                 Traceback (most recent call last)",
      "\u001b[0;32m<ipython-input-7-2c433bd282e9>\u001b[0m in \u001b[0;36m<module>\u001b[0;34m\u001b[0m\n\u001b[1;32m      2\u001b[0m \u001b[0mhdr\u001b[0m\u001b[0;34m.\u001b[0m\u001b[0msetContoursAlpha\u001b[0m\u001b[0;34m(\u001b[0m\u001b[0;34m[\u001b[0m\u001b[0;36m0.95\u001b[0m\u001b[0;34m,\u001b[0m \u001b[0;36m0.5\u001b[0m\u001b[0;34m]\u001b[0m\u001b[0;34m)\u001b[0m\u001b[0;34m\u001b[0m\u001b[0;34m\u001b[0m\u001b[0m\n\u001b[1;32m      3\u001b[0m \u001b[0mhdr\u001b[0m\u001b[0;34m.\u001b[0m\u001b[0msetOutlierAlpha\u001b[0m\u001b[0;34m(\u001b[0m\u001b[0;36m0.95\u001b[0m\u001b[0;34m)\u001b[0m\u001b[0;34m\u001b[0m\u001b[0;34m\u001b[0m\u001b[0m\n\u001b[0;32m----> 4\u001b[0;31m \u001b[0mhdr\u001b[0m\u001b[0;34m.\u001b[0m\u001b[0mrun\u001b[0m\u001b[0;34m(\u001b[0m\u001b[0;34m)\u001b[0m\u001b[0;34m\u001b[0m\u001b[0;34m\u001b[0m\u001b[0m\n\u001b[0m\u001b[1;32m      5\u001b[0m \u001b[0mhdr\u001b[0m\u001b[0;34m.\u001b[0m\u001b[0msummary\u001b[0m\u001b[0;34m(\u001b[0m\u001b[0;34m)\u001b[0m\u001b[0;34m\u001b[0m\u001b[0;34m\u001b[0m\u001b[0m\n",
      "\u001b[0;32m~/Documents/Codes/othdrplot/othdrplot/process_high_density_region_algorithm.py\u001b[0m in \u001b[0;36mrun\u001b[0;34m(self, KarhunenLoeveResult, distribution)\u001b[0m\n\u001b[1;32m     65\u001b[0m         \u001b[0;34m:\u001b[0m\u001b[0mtype\u001b[0m \u001b[0mdistribution\u001b[0m\u001b[0;34m:\u001b[0m \u001b[0;34m:\u001b[0m\u001b[0;32mclass\u001b[0m\u001b[0;34m:\u001b[0m\u001b[0;31m`\u001b[0m\u001b[0mopenturns\u001b[0m\u001b[0;34m.\u001b[0m\u001b[0mDistribution\u001b[0m\u001b[0;31m`\u001b[0m\u001b[0;34m\u001b[0m\u001b[0;34m\u001b[0m\u001b[0m\n\u001b[1;32m     66\u001b[0m         \"\"\"\n\u001b[0;32m---> 67\u001b[0;31m         \u001b[0mself\u001b[0m\u001b[0;34m.\u001b[0m\u001b[0mrunDimensionReduction\u001b[0m\u001b[0;34m(\u001b[0m\u001b[0mKarhunenLoeveResult\u001b[0m\u001b[0;34m)\u001b[0m\u001b[0;34m\u001b[0m\u001b[0;34m\u001b[0m\u001b[0m\n\u001b[0m\u001b[1;32m     68\u001b[0m         \u001b[0mself\u001b[0m\u001b[0;34m.\u001b[0m\u001b[0mrunHDR\u001b[0m\u001b[0;34m(\u001b[0m\u001b[0mdistribution\u001b[0m\u001b[0;34m)\u001b[0m\u001b[0;34m\u001b[0m\u001b[0;34m\u001b[0m\u001b[0m\n\u001b[1;32m     69\u001b[0m \u001b[0;34m\u001b[0m\u001b[0m\n",
      "\u001b[0;32m~/Documents/Codes/othdrplot/othdrplot/process_high_density_region_algorithm.py\u001b[0m in \u001b[0;36mrunDimensionReduction\u001b[0;34m(self, KarhunenLoeveResult)\u001b[0m\n\u001b[1;32m     77\u001b[0m         \u001b[0;32mif\u001b[0m \u001b[0mKarhunenLoeveResult\u001b[0m \u001b[0;32mis\u001b[0m \u001b[0;32mNone\u001b[0m\u001b[0;34m:\u001b[0m\u001b[0;34m\u001b[0m\u001b[0;34m\u001b[0m\u001b[0m\n\u001b[1;32m     78\u001b[0m             algo = ot.KarhunenLoeveSVDAlgorithm(self.processSample,\n\u001b[0;32m---> 79\u001b[0;31m                                                 self.threshold)\n\u001b[0m\u001b[1;32m     80\u001b[0m             \u001b[0malgo\u001b[0m\u001b[0;34m.\u001b[0m\u001b[0mrun\u001b[0m\u001b[0;34m(\u001b[0m\u001b[0;34m)\u001b[0m\u001b[0;34m\u001b[0m\u001b[0;34m\u001b[0m\u001b[0m\n\u001b[1;32m     81\u001b[0m \u001b[0;34m\u001b[0m\u001b[0m\n",
      "\u001b[0;32m~/Applications/miniconda3/envs/othdr/lib/python3.7/site-packages/openturns/model_process.py\u001b[0m in \u001b[0;36m__init__\u001b[0;34m(self, *args)\u001b[0m\n\u001b[1;32m   5216\u001b[0m \u001b[0;34m\u001b[0m\u001b[0m\n\u001b[1;32m   5217\u001b[0m     \u001b[0;32mdef\u001b[0m \u001b[0m__init__\u001b[0m\u001b[0;34m(\u001b[0m\u001b[0mself\u001b[0m\u001b[0;34m,\u001b[0m \u001b[0;34m*\u001b[0m\u001b[0margs\u001b[0m\u001b[0;34m)\u001b[0m\u001b[0;34m:\u001b[0m\u001b[0;34m\u001b[0m\u001b[0;34m\u001b[0m\u001b[0m\n\u001b[0;32m-> 5218\u001b[0;31m         \u001b[0mthis\u001b[0m \u001b[0;34m=\u001b[0m \u001b[0m_model_process\u001b[0m\u001b[0;34m.\u001b[0m\u001b[0mnew_KarhunenLoeveSVDAlgorithm\u001b[0m\u001b[0;34m(\u001b[0m\u001b[0;34m*\u001b[0m\u001b[0margs\u001b[0m\u001b[0;34m)\u001b[0m\u001b[0;34m\u001b[0m\u001b[0;34m\u001b[0m\u001b[0m\n\u001b[0m\u001b[1;32m   5219\u001b[0m         \u001b[0;32mtry\u001b[0m\u001b[0;34m:\u001b[0m\u001b[0;34m\u001b[0m\u001b[0;34m\u001b[0m\u001b[0m\n\u001b[1;32m   5220\u001b[0m             \u001b[0mself\u001b[0m\u001b[0;34m.\u001b[0m\u001b[0mthis\u001b[0m\u001b[0;34m.\u001b[0m\u001b[0mappend\u001b[0m\u001b[0;34m(\u001b[0m\u001b[0mthis\u001b[0m\u001b[0;34m)\u001b[0m\u001b[0;34m\u001b[0m\u001b[0;34m\u001b[0m\u001b[0m\n",
      "\u001b[0;31mTypeError\u001b[0m: InvalidArgumentException : Error: expected positive vertices weights, here weights[0]=0"
     ]
    }
   ],
   "source": [
    "hdr = ProcessHighDensityRegionAlgorithm(sample)\n",
    "hdr.setContoursAlpha([0.95, 0.5])\n",
    "hdr.setOutlierAlpha(0.95)\n",
    "hdr.run()\n",
    "hdr.summary()"
   ]
  },
  {
   "cell_type": "code",
   "execution_count": null,
   "metadata": {},
   "outputs": [],
   "source": [
    "hdr.plotDimensionReduction()"
   ]
  },
  {
   "cell_type": "code",
   "execution_count": null,
   "metadata": {},
   "outputs": [],
   "source": [
    "hdr.plotDensity(plotData=True)"
   ]
  },
  {
   "cell_type": "code",
   "execution_count": null,
   "metadata": {},
   "outputs": [],
   "source": [
    "hdr.plotTrajectories()"
   ]
  },
  {
   "cell_type": "code",
   "execution_count": null,
   "metadata": {},
   "outputs": [],
   "source": [
    "_ = hdr.plotOutlierTrajectories()"
   ]
  },
  {
   "cell_type": "code",
   "execution_count": null,
   "metadata": {},
   "outputs": [],
   "source": [
    "print(\"Outliers trajectories at alpha=%.4f\" % (hdr.densityPlot.outlierAlpha))\n",
    "outlierIndices = hdr.computeOutlierIndices()\n",
    "outlierIndices"
   ]
  }
 ],
 "metadata": {
  "kernelspec": {
   "display_name": "Python 3",
   "language": "python",
   "name": "python3"
  },
  "language_info": {
   "codemirror_mode": {
    "name": "ipython",
    "version": 3
   },
   "file_extension": ".py",
   "mimetype": "text/x-python",
   "name": "python",
   "nbconvert_exporter": "python",
   "pygments_lexer": "ipython3",
   "version": "3.7.2"
  }
 },
 "nbformat": 4,
 "nbformat_minor": 1
}
